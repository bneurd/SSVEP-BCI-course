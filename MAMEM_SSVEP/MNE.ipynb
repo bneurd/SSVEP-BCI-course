{
 "cells": [
  {
   "cell_type": "markdown",
   "metadata": {},
   "source": [
    "### Criando objetos MNE"
   ]
  },
  {
   "cell_type": "code",
   "execution_count": 32,
   "metadata": {},
   "outputs": [
    {
     "name": "stdout",
     "output_type": "stream",
     "text": [
      "Estruturas => dados (125, 257, 1205) labels (125,)\n",
      "Características do voluntário: {'age': '37', 'capsize': 'Adult Small', 'gender': 'Male', 'hairtype': 'Regular', 'handedness': 'Right'}\n",
      "\n",
      "Rótulos: {'1': 6.66, '2': 7.5, '3': 8.57, '4': 10.0, '5': 12.0}\n",
      "\n",
      "Taxa de amostragem: 250\n"
     ]
    }
   ],
   "source": [
    "%run prepare.ipynb"
   ]
  },
  {
   "cell_type": "code",
   "execution_count": 65,
   "metadata": {},
   "outputs": [
    {
     "name": "stdout",
     "output_type": "stream",
     "text": [
      "Creating RawArray with float64 data, n_channels=257, n_times=1205\n",
      "    Range : 0 ... 1204 =      0.000 ...     4.816 secs\n",
      "Ready.\n",
      "<RawArray | 257 x 1205 (4.8 s), ~2.8 MB, data loaded>\n"
     ]
    }
   ],
   "source": [
    "import mne\n",
    "\n",
    "ch_names = 257\n",
    "ch_types = 'eeg'\n",
    "\n",
    "info = mne.create_info(ch_names=ch_names, sfreq=250, ch_types=ch_types)\n",
    "\n",
    "raw = mne.io.RawArray(X[9], info)\n",
    "\n",
    "print(raw)"
   ]
  }
 ],
 "metadata": {
  "kernelspec": {
   "display_name": "Python 3",
   "language": "python",
   "name": "python3"
  },
  "language_info": {
   "codemirror_mode": {
    "name": "ipython",
    "version": 3
   },
   "file_extension": ".py",
   "mimetype": "text/x-python",
   "name": "python",
   "nbconvert_exporter": "python",
   "pygments_lexer": "ipython3",
   "version": "3.8.2"
  }
 },
 "nbformat": 4,
 "nbformat_minor": 4
}
